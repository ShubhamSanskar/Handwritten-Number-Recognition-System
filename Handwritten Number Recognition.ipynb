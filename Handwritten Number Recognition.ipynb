{
 "cells": [
  {
   "cell_type": "markdown",
   "id": "dfb35dde",
   "metadata": {},
   "source": [
    "# Handwritten Digit Recognition with Convolutional Neural Network (CNN)"
   ]
  },
  {
   "cell_type": "markdown",
   "id": "701d763d",
   "metadata": {},
   "source": [
    "This Python code implements a Convolutional Neural Network (CNN) for recognizing handwritten digits from the MNIST dataset. The code uses TensorFlow and Keras for building and training the neural network."
   ]
  },
  {
   "cell_type": "markdown",
   "id": "e771abab",
   "metadata": {},
   "source": [
    "This code demonstrates building and training a CNN for handwritten digit recognition using the MNIST dataset. The model's performance can be further evaluated on test data."
   ]
  },
  {
   "cell_type": "markdown",
   "id": "40a399af",
   "metadata": {},
   "source": [
    "# Loading and Preprocessing the Data"
   ]
  },
  {
   "cell_type": "markdown",
   "id": "25c30ce4",
   "metadata": {},
   "source": [
    "The MNIST dataset is loaded using TensorFlow's tf.keras.datasets.mnist.\n",
    "The dataset is normalized and reshaped to be suitable for CNN input."
   ]
  },
  {
   "cell_type": "code",
   "execution_count": 1,
   "id": "f317e552",
   "metadata": {},
   "outputs": [],
   "source": [
    "import tensorflow as tf"
   ]
  },
  {
   "cell_type": "code",
   "execution_count": 2,
   "id": "a4a660c8",
   "metadata": {},
   "outputs": [],
   "source": [
    "mnist = tf.keras.datasets.mnist"
   ]
  },
  {
   "cell_type": "code",
   "execution_count": 3,
   "id": "ff96f94f",
   "metadata": {},
   "outputs": [],
   "source": [
    "(x_train,y_train),(x_test,y_test)=mnist.load_data('digits')"
   ]
  },
  {
   "cell_type": "code",
   "execution_count": 4,
   "id": "05af8ba6",
   "metadata": {},
   "outputs": [
    {
     "data": {
      "text/plain": [
       "(60000, 28, 28)"
      ]
     },
     "execution_count": 4,
     "metadata": {},
     "output_type": "execute_result"
    }
   ],
   "source": [
    "x_train.shape"
   ]
  },
  {
   "cell_type": "code",
   "execution_count": 5,
   "id": "31e8332e",
   "metadata": {},
   "outputs": [
    {
     "data": {
      "text/plain": [
       "(60000,)"
      ]
     },
     "execution_count": 5,
     "metadata": {},
     "output_type": "execute_result"
    }
   ],
   "source": [
    "y_train.shape"
   ]
  },
  {
   "cell_type": "markdown",
   "id": "d2949c27",
   "metadata": {},
   "source": [
    "# Exploratory Data Analysis"
   ]
  },
  {
   "cell_type": "markdown",
   "id": "e4ecfdd4",
   "metadata": {},
   "source": [
    "Sample images from the dataset are displayed using matplotlib."
   ]
  },
  {
   "cell_type": "code",
   "execution_count": 6,
   "id": "cf147c7c",
   "metadata": {},
   "outputs": [
    {
     "data": {
      "image/png": "[encoded data removed]",
      "text/plain": [
       "<Figure size 640x480 with 1 Axes>"
      ]
     },
     "metadata": {},
     "output_type": "display_data"
    }
   ],
   "source": [
    "import matplotlib.pyplot as plt\n",
    "plt.imshow(x_train[3000])\n",
    "plt.show()"
   ]
  },
  {
   "cell_type": "code",
   "execution_count": 7,
   "id": "eda144cf",
   "metadata": {},
   "outputs": [
    {
     "name": "stdout",
     "output_type": "stream",
     "text": [
      "[[  0   0   0   0   0   0   0   0   0   0   0   0   0   0   0   0   0   0\n",
      "    0   0   0   0   0   0   0   0   0   0]\n",
      " [  0   0   0   0   0   0   0   0   0   0   0   0   0   0   0   0   0   0\n",
      "    0   0   0   0   0   0   0   0   0   0]\n",
      " [  0   0   0   0   0   0   0   0   0   0   0   0   0   0   0   0   0   0\n",
      "    0   0   0   0   0   0   0   0   0   0]\n",
      " [  0   0   0   0   0   0   0   0   0   0   0   0   0   0   0   0   0   0\n",
      "    0   0   0   0   0   0   0   0   0   0]\n",
      " [  0   0   0   0   0   0   0   0   0   0   0   0   0   0   0   0   0   0\n",
      "    0   0   0   0   0   0   0   0   0   0]\n",
      " [  0   0   0   0   0   0   0   0   0   0   0   0   0   0   0   0   0   0\n",
      "    0   0   0   0   0   0   0   0   0   0]\n",
      " [  0   0   0   0   0   0   0   0   0   0   0   0   0  25  91 174 254 254\n",
      "  255 254 156  27   0   0   0   0   0   0]\n",
      " [  0   0   0   0   0   0   0   0   0   0   0   9  84 212 254 254 224 216\n",
      "  216 219 254 103   0   0   0   0   0   0]\n",
      " [  0   0   0   0   0   0   0   0   0   0  39 172 254 250 161  56  13   0\n",
      "    0  58 254 176   0   0   0   0   0   0]\n",
      " [  0   0   0   0   0   0   0   0   0  69 229 254 217  78   0   0   0   0\n",
      "    0 176 254 107   0   0   0   0   0   0]\n",
      " [  0   0   0   0   0   0   0   0  44 233 254 131  10   0   0   0   0   0\n",
      "    0 207 206   4   0   0   0   0   0   0]\n",
      " [  0   0   0   0   0   0   0   0 183 254 184   2   0   0   0   0   0   0\n",
      "    0 165 238 127   0   0   0   0   0   0]\n",
      " [  0   0   0   0   0   0   0  85 248 247  78   0   0   0   0   0   0   0\n",
      "    0 144 254 197   0   0   0   0   0   0]\n",
      " [  0   0   0   0   0   0   3 188 254 123   0   0   0   0   0   0   0   0\n",
      "  102 252 254  86   0   0   0   0   0   0]\n",
      " [  0   0   0   0   0   0 135 254 168   7   0   0   0   0   0   0   0   9\n",
      "  189 254 181   2   0   0   0   0   0   0]\n",
      " [  0   0   0   0   0   0 198 254  78   0   0   0   0   0   0   0   4 177\n",
      "  254 254 169   0   0   0   0   0   0   0]\n",
      " [  0   0   0   0   0  24 234 254  19   0   0   0   0   0   0  10 178 254\n",
      "  255 254 145   0   0   0   0   0   0   0]\n",
      " [  0   0   0   0   0  19 225 254 124  21   0   0   5  38 132 220 252 153\n",
      "  244 251  64   0   0   0   0   0   0   0]\n",
      " [  0   0   0   0   0   0 121 250 254 229 198 198 204 254 254 245  96  35\n",
      "  243 196   0   0   0   0   0   0   0   0]\n",
      " [  0   0   0   0   0   0   0  85 220 254 254 254 189 143  85  10   0 169\n",
      "  254 140   0   0   0   0   0   0   0   0]\n",
      " [  0   0   0   0   0   0   0   0  11  18  18  18   3   0   0   0   6 216\n",
      "  254  53   0   0   0   0   0   0   0   0]\n",
      " [  0   0   0   0   0   0   0   0   0   0   0   0   0   0   0   0  87 254\n",
      "  215   9   0   0   0   0   0   0   0   0]\n",
      " [  0   0   0   0   0   0   0   0   0   0   0   0   0   0   0   0 170 254\n",
      "  140   0   0   0   0   0   0   0   0   0]\n",
      " [  0   0   0   0   0   0   0   0   0   0   0   0   0   0   0   0 198 254\n",
      "  113   0   0   0   0   0   0   0   0   0]\n",
      " [  0   0   0   0   0   0   0   0   0   0   0   0   0   0   0   0 198 254\n",
      "  113   0   0   0   0   0   0   0   0   0]\n",
      " [  0   0   0   0   0   0   0   0   0   0   0   0   0   0   0   0 198 254\n",
      "  113   0   0   0   0   0   0   0   0   0]\n",
      " [  0   0   0   0   0   0   0   0   0   0   0   0   0   0   0   0   0   0\n",
      "    0   0   0   0   0   0   0   0   0   0]\n",
      " [  0   0   0   0   0   0   0   0   0   0   0   0   0   0   0   0   0   0\n",
      "    0   0   0   0   0   0   0   0   0   0]]\n"
     ]
    }
   ],
   "source": [
    "print(x_train[3000])"
   ]
  },
  {
   "cell_type": "code",
   "execution_count": 8,
   "id": "83ac0726",
   "metadata": {},
   "outputs": [
    {
     "data": {
      "text/plain": [
       "<matplotlib.image.AxesImage at 0x2196dc19d30>"
      ]
     },
     "execution_count": 8,
     "metadata": {},
     "output_type": "execute_result"
    },
    {
     "data": {
      "image/png": "[encoded data removed]",
      "text/plain": [
       "<Figure size 640x480 with 1 Axes>"
      ]
     },
     "metadata": {},
     "output_type": "display_data"
    }
   ],
   "source": [
    "x_train=tf.keras.utils.normalize(x_train,axis=1)\n",
    "x_test=tf.keras.utils.normalize(x_test,axis=1)\n",
    "plt.imshow(x_train[3000],cmap=plt.cm.binary)"
   ]
  },
  {
   "cell_type": "code",
   "execution_count": 9,
   "id": "2473e9a5",
   "metadata": {},
   "outputs": [
    {
     "name": "stdout",
     "output_type": "stream",
     "text": [
      "[[0.         0.         0.         0.         0.         0.\n",
      "  0.         0.         0.         0.         0.         0.\n",
      "  0.         0.         0.         0.         0.         0.\n",
      "  0.         0.         0.         0.         0.         0.\n",
      "  0.         0.         0.         0.        ]\n",
      " [0.         0.         0.         0.         0.         0.\n",
      "  0.         0.         0.         0.         0.         0.\n",
      "  0.         0.         0.         0.         0.         0.\n",
      "  0.         0.         0.         0.         0.         0.\n",
      "  0.         0.         0.         0.        ]\n",
      " [0.         0.         0.         0.         0.         0.\n",
      "  0.         0.         0.         0.         0.         0.\n",
      "  0.         0.         0.         0.         0.         0.\n",
      "  0.         0.         0.         0.         0.         0.\n",
      "  0.         0.         0.         0.        ]\n",
      " [0.         0.         0.         0.         0.         0.\n",
      "  0.         0.         0.         0.         0.         0.\n",
      "  0.         0.         0.         0.         0.         0.\n",
      "  0.         0.         0.         0.         0.         0.\n",
      "  0.         0.         0.         0.        ]\n",
      " [0.         0.         0.         0.         0.         0.\n",
      "  0.         0.         0.         0.         0.         0.\n",
      "  0.         0.         0.         0.         0.         0.\n",
      "  0.         0.         0.         0.         0.         0.\n",
      "  0.         0.         0.         0.        ]\n",
      " [0.         0.         0.         0.         0.         0.\n",
      "  0.         0.         0.         0.         0.         0.\n",
      "  0.         0.         0.         0.         0.         0.\n",
      "  0.         0.         0.         0.         0.         0.\n",
      "  0.         0.         0.         0.        ]\n",
      " [0.         0.         0.         0.         0.         0.\n",
      "  0.         0.         0.         0.         0.         0.\n",
      "  0.         0.05582332 0.20994119 0.38285427 0.41566908 0.32012961\n",
      "  0.31897536 0.3229488  0.21379112 0.07923478 0.         0.\n",
      "  0.         0.         0.         0.        ]\n",
      " [0.         0.         0.         0.         0.         0.\n",
      "  0.         0.         0.         0.         0.         0.01939232\n",
      "  0.1896728  0.47338178 0.58598969 0.55887922 0.36657431 0.2722362\n",
      "  0.27019089 0.27844798 0.3480958  0.30226602 0.         0.\n",
      "  0.         0.         0.         0.        ]\n",
      " [0.         0.         0.         0.         0.         0.\n",
      "  0.         0.         0.         0.         0.07612572 0.37060876\n",
      "  0.57353442 0.55823323 0.37143441 0.12321747 0.0212744  0.\n",
      "  0.         0.07374421 0.3480958  0.51649339 0.         0.\n",
      "  0.         0.         0.         0.        ]\n",
      " [0.         0.         0.         0.         0.         0.\n",
      "  0.         0.         0.         0.12246002 0.44699459 0.54729433\n",
      "  0.48998807 0.17416877 0.         0.         0.         0.\n",
      "  0.         0.22377555 0.3480958  0.3140045  0.         0.\n",
      "  0.         0.         0.         0.        ]\n",
      " [0.         0.         0.         0.         0.         0.\n",
      "  0.         0.         0.07723733 0.41352441 0.49579312 0.28226597\n",
      "  0.0225801  0.         0.         0.         0.         0.\n",
      "  0.         0.26319056 0.28231392 0.01173849 0.         0.\n",
      "  0.         0.         0.         0.        ]\n",
      " [0.         0.         0.         0.         0.         0.\n",
      "  0.         0.         0.32123708 0.45079485 0.35915722 0.0043094\n",
      "  0.         0.         0.         0.         0.         0.\n",
      "  0.         0.20978957 0.32616851 0.37269693 0.         0.\n",
      "  0.         0.         0.         0.        ]\n",
      " [0.         0.         0.         0.         0.         0.\n",
      "  0.         0.13967158 0.43533768 0.43837137 0.15225143 0.\n",
      "  0.         0.         0.         0.         0.         0.\n",
      "  0.         0.18308908 0.3480958  0.57812044 0.         0.\n",
      "  0.         0.         0.         0.        ]\n",
      " [0.         0.         0.         0.         0.         0.\n",
      "  0.00712149 0.30892068 0.44587005 0.2182983  0.         0.\n",
      "  0.         0.         0.         0.         0.         0.\n",
      "  0.12759014 0.32040589 0.3480958  0.25237745 0.         0.\n",
      "  0.         0.         0.         0.        ]\n",
      " [0.         0.         0.         0.         0.         0.\n",
      "  0.32046716 0.41737156 0.29490617 0.01242348 0.         0.\n",
      "  0.         0.         0.         0.         0.         0.01134318\n",
      "  0.23641703 0.3229488  0.24805252 0.00586924 0.         0.\n",
      "  0.         0.         0.         0.        ]\n",
      " [0.         0.         0.         0.         0.         0.\n",
      "  0.4700185  0.41737156 0.13692072 0.         0.         0.\n",
      "  0.         0.         0.         0.         0.00654597 0.22308245\n",
      "  0.31772447 0.3229488  0.23160705 0.         0.         0.\n",
      "  0.         0.         0.         0.        ]\n",
      " [0.         0.         0.         0.         0.         0.78404582\n",
      "  0.55547641 0.41737156 0.03335248 0.         0.         0.\n",
      "  0.         0.         0.         0.02200312 0.29129566 0.32012961\n",
      "  0.31897536 0.3229488  0.19871611 0.         0.         0.\n",
      "  0.         0.         0.         0.        ]\n",
      " [0.         0.         0.         0.         0.         0.62070294\n",
      "  0.53411193 0.41737156 0.21766884 0.03727044 0.         0.\n",
      "  0.01129005 0.08485145 0.30453007 0.48406862 0.4123961  0.19283398\n",
      "  0.30521563 0.31913444 0.08770918 0.         0.         0.\n",
      "  0.         0.         0.         0.        ]\n",
      " [0.         0.         0.         0.         0.         0.\n",
      "  0.28723353 0.41079878 0.44587005 0.40642528 0.3864844  0.42663101\n",
      "  0.46063395 0.56716496 0.58598969 0.53907641 0.15710328 0.04411235\n",
      "  0.30396475 0.24920458 0.         0.         0.         0.\n",
      "  0.         0.         0.         0.        ]\n",
      " [0.         0.         0.         0.         0.         0.\n",
      "  0.         0.13967158 0.38618666 0.45079485 0.49579312 0.54729433\n",
      "  0.4267638  0.31930941 0.19609891 0.02200312 0.         0.21299962\n",
      "  0.31772447 0.17800327 0.         0.         0.         0.\n",
      "  0.         0.         0.         0.        ]\n",
      " [0.         0.         0.         0.         0.         0.\n",
      "  0.         0.         0.01930933 0.03194609 0.03513495 0.03878464\n",
      "  0.00677403 0.         0.         0.         0.00981895 0.2722362\n",
      "  0.31772447 0.06738695 0.         0.         0.         0.\n",
      "  0.         0.         0.         0.        ]\n",
      " [0.         0.         0.         0.         0.         0.\n",
      "  0.         0.         0.         0.         0.         0.\n",
      "  0.         0.         0.         0.         0.14237484 0.32012961\n",
      "  0.26894001 0.01144307 0.         0.         0.         0.\n",
      "  0.         0.         0.         0.        ]\n",
      " [0.         0.         0.         0.         0.         0.\n",
      "  0.         0.         0.         0.         0.         0.\n",
      "  0.         0.         0.         0.         0.27820372 0.32012961\n",
      "  0.17512372 0.         0.         0.         0.         0.\n",
      "  0.         0.         0.         0.        ]\n",
      " [0.         0.         0.         0.         0.         0.\n",
      "  0.         0.         0.         0.         0.         0.\n",
      "  0.         0.         0.         0.         0.32402551 0.32012961\n",
      "  0.14134986 0.         0.         0.         0.         0.\n",
      "  0.         0.         0.         0.        ]\n",
      " [0.         0.         0.         0.         0.         0.\n",
      "  0.         0.         0.         0.         0.         0.\n",
      "  0.         0.         0.         0.         0.32402551 0.32012961\n",
      "  0.14134986 0.         0.         0.         0.         0.\n",
      "  0.         0.         0.         0.        ]\n",
      " [0.         0.         0.         0.         0.         0.\n",
      "  0.         0.         0.         0.         0.         0.\n",
      "  0.         0.         0.         0.         0.32402551 0.32012961\n",
      "  0.14134986 0.         0.         0.         0.         0.\n",
      "  0.         0.         0.         0.        ]\n",
      " [0.         0.         0.         0.         0.         0.\n",
      "  0.         0.         0.         0.         0.         0.\n",
      "  0.         0.         0.         0.         0.         0.\n",
      "  0.         0.         0.         0.         0.         0.\n",
      "  0.         0.         0.         0.        ]\n",
      " [0.         0.         0.         0.         0.         0.\n",
      "  0.         0.         0.         0.         0.         0.\n",
      "  0.         0.         0.         0.         0.         0.\n",
      "  0.         0.         0.         0.         0.         0.\n",
      "  0.         0.         0.         0.        ]]\n"
     ]
    }
   ],
   "source": [
    "print(x_train[3000])"
   ]
  },
  {
   "cell_type": "code",
   "execution_count": 10,
   "id": "686907d4",
   "metadata": {},
   "outputs": [
    {
     "name": "stdout",
     "output_type": "stream",
     "text": [
      "9\n"
     ]
    }
   ],
   "source": [
    "print(y_train[3000])"
   ]
  },
  {
   "cell_type": "markdown",
   "id": "3d017f8b",
   "metadata": {},
   "source": [
    "# Data Preprocessing"
   ]
  },
  {
   "cell_type": "markdown",
   "id": "49aca068",
   "metadata": {},
   "source": [
    "Images are reshaped and normalized for input to the CNN model."
   ]
  },
  {
   "cell_type": "code",
   "execution_count": 11,
   "id": "97ff2fbc",
   "metadata": {},
   "outputs": [
    {
     "name": "stdout",
     "output_type": "stream",
     "text": [
      "Training Samples Dimension (60000, 28, 28, 1)\n",
      "Testing Samples Dimension (10000, 28, 28, 1)\n"
     ]
    }
   ],
   "source": [
    "import numpy as np\n",
    "\n",
    "i=28\n",
    "x_trainr=np.array(x_train).reshape(-1,i,i,1)\n",
    "x_testr=np.array(x_test).reshape(-1,i,i,1)\n",
    "print(\"Training Samples Dimension\",x_trainr.shape)\n",
    "print(\"Testing Samples Dimension\",x_testr.shape)"
   ]
  },
  {
   "cell_type": "markdown",
   "id": "1756f559",
   "metadata": {},
   "source": [
    "# Building the CNN Model\n",
    "A CNN model is constructed using Keras Sequential API.\n",
    "The model architecture consists of convolutional layers, max-pooling layers, and dense layers."
   ]
  },
  {
   "cell_type": "code",
   "execution_count": 12,
   "id": "01936c25",
   "metadata": {},
   "outputs": [],
   "source": [
    "from tensorflow.keras.models import Sequential\n",
    "from tensorflow.keras.layers import Dense, Dropout, Activation, Flatten, Conv2D, MaxPooling2D"
   ]
  },
  {
   "cell_type": "code",
   "execution_count": 13,
   "id": "769fd340",
   "metadata": {},
   "outputs": [],
   "source": [
    "import os\n",
    "os.environ['KMP_DUPLICATE_LIB_OK']='True'"
   ]
  },
  {
   "cell_type": "code",
   "execution_count": 14,
   "id": "112d060c",
   "metadata": {},
   "outputs": [],
   "source": [
    "model=Sequential()\n",
    "model.add(Conv2D(32,(3,3),input_shape=x_trainr.shape[1:]))\n",
    "model.add(Activation(\"relu\"))\n",
    "model.add(MaxPooling2D(pool_size=(2,2)))\n",
    "\n",
    "model.add(Conv2D(64,(3,3)))\n",
    "model.add(Activation(\"relu\"))\n",
    "model.add(MaxPooling2D(pool_size=(2,2)))\n",
    "\n",
    "model.add(Flatten())\n",
    "model.add(Dense(64))\n",
    "model.add(Activation(\"relu\"))\n",
    "\n",
    "model.add(Dense(32))\n",
    "model.add(Activation(\"relu\"))\n",
    "\n",
    "model.add(Dense(10))\n",
    "model.add(Activation(\"softmax\"))"
   ]
  },
  {
   "cell_type": "code",
   "execution_count": 15,
   "id": "c2756ba7",
   "metadata": {},
   "outputs": [
    {
     "name": "stdout",
     "output_type": "stream",
     "text": [
      "Model: \"sequential\"\n",
      "_________________________________________________________________\n",
      " Layer (type)                Output Shape              Param #   \n",
      "=================================================================\n",
      " conv2d (Conv2D)             (None, 26, 26, 32)        320       \n",
      "                                                                 \n",
      " activation (Activation)     (None, 26, 26, 32)        0         \n",
      "                                                                 \n",
      " max_pooling2d (MaxPooling2D  (None, 13, 13, 32)       0         \n",
      " )                                                               \n",
      "                                                                 \n",
      " conv2d_1 (Conv2D)           (None, 11, 11, 64)        18496     \n",
      "                                                                 \n",
      " activation_1 (Activation)   (None, 11, 11, 64)        0         \n",
      "                                                                 \n",
      " max_pooling2d_1 (MaxPooling  (None, 5, 5, 64)         0         \n",
      " 2D)                                                             \n",
      "                                                                 \n",
      " flatten (Flatten)           (None, 1600)              0         \n",
      "                                                                 \n",
      " dense (Dense)               (None, 64)                102464    \n",
      "                                                                 \n",
      " activation_2 (Activation)   (None, 64)                0         \n",
      "                                                                 \n",
      " dense_1 (Dense)             (None, 32)                2080      \n",
      "                                                                 \n",
      " activation_3 (Activation)   (None, 32)                0         \n",
      "                                                                 \n",
      " dense_2 (Dense)             (None, 10)                330       \n",
      "                                                                 \n",
      " activation_4 (Activation)   (None, 10)                0         \n",
      "                                                                 \n",
      "=================================================================\n",
      "Total params: 123,690\n",
      "Trainable params: 123,690\n",
      "Non-trainable params: 0\n",
      "_________________________________________________________________\n"
     ]
    }
   ],
   "source": [
    "model.summary()"
   ]
  },
  {
   "cell_type": "code",
   "execution_count": 16,
   "id": "75b2c859",
   "metadata": {},
   "outputs": [
    {
     "name": "stdout",
     "output_type": "stream",
     "text": [
      "Total Training Samples= 60000\n"
     ]
    }
   ],
   "source": [
    "print(\"Total Training Samples=\",len(x_trainr))"
   ]
  },
  {
   "cell_type": "markdown",
   "id": "120eb24a",
   "metadata": {},
   "source": [
    "# Compiling and Training the Model\n",
    "The model is compiled with a specific loss function, optimizer, and evaluation metric.\n",
    "Training is performed on the training data for a specified number of epochs."
   ]
  },
  {
   "cell_type": "code",
   "execution_count": 17,
   "id": "043a5899",
   "metadata": {},
   "outputs": [],
   "source": [
    "from keras.api._v2.keras import metrics\n",
    "model.compile(loss= \"sparse_categorical_crossentropy\",optimizer=\"adam\",metrics=['accuracy'])"
   ]
  },
  {
   "cell_type": "code",
   "execution_count": 18,
   "id": "1abfaf52",
   "metadata": {},
   "outputs": [
    {
     "name": "stdout",
     "output_type": "stream",
     "text": [
      "Epoch 1/10\n",
      "1500/1500 [==============================] - 30s 17ms/step - loss: 0.2434 - accuracy: 0.9230 - val_loss: 0.0945 - val_accuracy: 0.9698\n",
      "Epoch 2/10\n",
      "1500/1500 [==============================] - 27s 18ms/step - loss: 0.0738 - accuracy: 0.9772 - val_loss: 0.0611 - val_accuracy: 0.9821\n",
      "Epoch 3/10\n",
      "1500/1500 [==============================] - 27s 18ms/step - loss: 0.0505 - accuracy: 0.9843 - val_loss: 0.0621 - val_accuracy: 0.9815\n",
      "Epoch 4/10\n",
      "1500/1500 [==============================] - 25s 17ms/step - loss: 0.0387 - accuracy: 0.9878 - val_loss: 0.0516 - val_accuracy: 0.9840\n",
      "Epoch 5/10\n",
      "1500/1500 [==============================] - 27s 18ms/step - loss: 0.0317 - accuracy: 0.9899 - val_loss: 0.0440 - val_accuracy: 0.9868\n",
      "Epoch 6/10\n",
      "1500/1500 [==============================] - 28s 19ms/step - loss: 0.0238 - accuracy: 0.9921 - val_loss: 0.0480 - val_accuracy: 0.9863\n",
      "Epoch 7/10\n",
      "1500/1500 [==============================] - 26s 17ms/step - loss: 0.0186 - accuracy: 0.9939 - val_loss: 0.0495 - val_accuracy: 0.9862\n",
      "Epoch 8/10\n",
      "1500/1500 [==============================] - 27s 18ms/step - loss: 0.0154 - accuracy: 0.9946 - val_loss: 0.0463 - val_accuracy: 0.9874\n",
      "Epoch 9/10\n",
      "1500/1500 [==============================] - 28s 18ms/step - loss: 0.0136 - accuracy: 0.9954 - val_loss: 0.0477 - val_accuracy: 0.9883\n",
      "Epoch 10/10\n",
      "1500/1500 [==============================] - 26s 18ms/step - loss: 0.0106 - accuracy: 0.9961 - val_loss: 0.0493 - val_accuracy: 0.9877\n"
     ]
    }
   ],
   "source": [
    "hist=model.fit(x_trainr,y_train,epochs=10,validation_split=0.2)"
   ]
  },
  {
   "cell_type": "code",
   "execution_count": 19,
   "id": "061bf254",
   "metadata": {},
   "outputs": [
    {
     "data": {
      "text/plain": [
       "dict_keys(['loss', 'accuracy', 'val_loss', 'val_accuracy'])"
      ]
     },
     "execution_count": 19,
     "metadata": {},
     "output_type": "execute_result"
    }
   ],
   "source": [
    "hist.history.keys()"
   ]
  },
  {
   "cell_type": "code",
   "execution_count": 20,
   "id": "65736c48",
   "metadata": {},
   "outputs": [
    {
     "data": {
      "text/plain": [
       "{'loss': [0.24337735772132874,\n",
       "  0.07376335561275482,\n",
       "  0.05049503967165947,\n",
       "  0.03866446018218994,\n",
       "  0.03174227476119995,\n",
       "  0.023827530443668365,\n",
       "  0.01855776272714138,\n",
       "  0.015408762730658054,\n",
       "  0.013649579137563705,\n",
       "  0.010635226033627987],\n",
       " 'accuracy': [0.9229999780654907,\n",
       "  0.9771875143051147,\n",
       "  0.984333336353302,\n",
       "  0.9878333210945129,\n",
       "  0.9898541569709778,\n",
       "  0.9921249747276306,\n",
       "  0.9938541650772095,\n",
       "  0.9946458339691162,\n",
       "  0.9953749775886536,\n",
       "  0.9960625171661377],\n",
       " 'val_loss': [0.09445551782846451,\n",
       "  0.061067331582307816,\n",
       "  0.06205166131258011,\n",
       "  0.05157935619354248,\n",
       "  0.044026803225278854,\n",
       "  0.04803188145160675,\n",
       "  0.049500320106744766,\n",
       "  0.046251021325588226,\n",
       "  0.0476657934486866,\n",
       "  0.04928787797689438],\n",
       " 'val_accuracy': [0.9698333144187927,\n",
       "  0.9820833206176758,\n",
       "  0.9815000295639038,\n",
       "  0.984000027179718,\n",
       "  0.9868333339691162,\n",
       "  0.9863333106040955,\n",
       "  0.9861666560173035,\n",
       "  0.987416684627533,\n",
       "  0.9883333444595337,\n",
       "  0.9877499938011169]}"
      ]
     },
     "execution_count": 20,
     "metadata": {},
     "output_type": "execute_result"
    }
   ],
   "source": [
    "hist.history"
   ]
  },
  {
   "cell_type": "markdown",
   "id": "54fe0043",
   "metadata": {},
   "source": [
    "# Model Evaluation and Visualization\n",
    "Training accuracy and loss are visualized over epochs using matplotlib."
   ]
  },
  {
   "cell_type": "code",
   "execution_count": 21,
   "id": "239849cb",
   "metadata": {},
   "outputs": [
    {
     "data": {
      "image/png": "[encoded data removed]",
      "text/plain": [
       "<Figure size 640x480 with 1 Axes>"
      ]
     },
     "metadata": {},
     "output_type": "display_data"
    }
   ],
   "source": [
    "import matplotlib.pyplot as plt\n",
    "plt.plot(hist.history['accuracy'],'-r',label='Training_Accuracy')\n",
    "plt.plot(hist.history['loss'],'-g',label='Training_Loss')\n",
    "\n",
    "plt.title('Model Training Accuracy')\n",
    "plt.ylabel('Accuarcy')\n",
    "plt.xlabel('epoch')\n",
    "plt.legend(loc='lower right')\n",
    "plt.show()"
   ]
  },
  {
   "cell_type": "markdown",
   "id": "f799b246",
   "metadata": {},
   "source": [
    "# The Accuracy of the model dataset to recognize number using MNIST is 96.98%"
   ]
  },
  {
   "cell_type": "code",
   "execution_count": null,
   "id": "bdd6b4ee",
   "metadata": {},
   "outputs": [],
   "source": []
  },
  {
   "cell_type": "code",
   "execution_count": null,
   "id": "6e8e0566",
   "metadata": {},
   "outputs": [],
   "source": []
  },
  {
   "cell_type": "code",
   "execution_count": null,
   "id": "a522a26e",
   "metadata": {},
   "outputs": [],
   "source": []
  },
  {
   "cell_type": "code",
   "execution_count": null,
   "id": "8444f619",
   "metadata": {},
   "outputs": [],
   "source": []
  }
 ],
 "metadata": {
  "kernelspec": {
   "display_name": "Python 3 (ipykernel)",
   "language": "python",
   "name": "python3"
  },
  "language_info": {
   "codemirror_mode": {
    "name": "ipython",
    "version": 3
   },
   "file_extension": ".py",
   "mimetype": "text/x-python",
   "name": "python",
   "nbconvert_exporter": "python",
   "pygments_lexer": "ipython3",
   "version": "3.9.18"
  }
 },
 "nbformat": 4,
 "nbformat_minor": 5
}
